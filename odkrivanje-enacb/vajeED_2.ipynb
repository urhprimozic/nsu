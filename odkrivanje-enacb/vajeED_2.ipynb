{
 "cells": [
  {
   "attachments": {},
   "cell_type": "markdown",
   "metadata": {},
   "source": [
    "# Odkrivanje enačb, 2. del: uporaba predznanja\n",
    "\n",
    "## 1. Verjetnostne gramatike in knjižnica ProGED\n",
    "1.1 Za odkrivanje enačb z verjetnostnimi gramatikami bomo uporabili knjižnico ProGED: https://github.com/brencej/ProGED.\n",
    "Instaliramo jo z ukazom \"pip install git+https://github.com/brencej/ProGED\". Če se pojavijo težave, ustvari sveže Pythonovo okolje in poskusi instalirati tja.\n",
    "\n",
    "Poglej si enostaven primer uporabe spodaj. Lahko se poigraš z različnimi nastavitvami in možnostmi. Celoten nabor modelov si lahko ogledaš v \"ED.models\". "
   ]
  },
  {
   "cell_type": "code",
   "execution_count": null,
   "metadata": {},
   "outputs": [],
   "source": [
    "import numpy as np\n",
    "import pandas as pd\n",
    "\n",
    "import ProGED as pg\n",
    "\n",
    "from vajeED_2_podatki import *"
   ]
  },
  {
   "cell_type": "code",
   "execution_count": null,
   "metadata": {},
   "outputs": [],
   "source": [
    "podatki = generiraj_newton(100)\n",
    "\n",
    "np.random.seed(1)\n",
    "ED = pg.EqDisco(data=podatki, \n",
    "                lhs_vars=[\"F\"],\n",
    "                rhs_vars=[\"m\", \"a\"],\n",
    "                sample_size=10)\n",
    "\n",
    "ED.generate_models()\n",
    "ED.fit_models()\n",
    "ED.get_results()"
   ]
  },
  {
   "attachments": {},
   "cell_type": "markdown",
   "metadata": {},
   "source": [
    "1.2 Prostor možnih enačb, ki ga želimo preiskovati, definiramo z verjetnostno kontekstno-neodvisno gramatiko. ProGED-u jo podamo v obliki stringa, zapisanega po pravilih knjižnice NLTK:\n",
    "\n",
    "- produkcijska pravila so oblike \"A -> B1 ... Bn [p]\", kjer je A neterminal, B1 ... Bn so terminali ali neterminali, p pa je verjetnost pravila\n",
    "- verjetnosti pravil z istim neterminalom na levi strani se morajo sešteti v 1\n",
    "- krajši zapis pravil z istim neterminalom na levi strani je \"A -> B1 ... Bn [p] | D1 ... Dn [q] | ... \" \n",
    "- terminalni simboli se označijo z enojnimi narekovaji, npr. \"A -> B 'x'\"\n",
    "- v ProGED-u je terminalni simbol \"C\" poseben - označuje numerične konstante, katerih vrednosti iščemo z optimizacijo\n",
    "\n",
    "Gramatika za linearne izraze dveh spremenljivk je\n",
    "\n",
    "E -> E + V | V  \n",
    "V -> 'x' | 'y'\n",
    "\n",
    "Uporabi to gramatiko za odkrivanje enačbe $y = x_1 + 3x_2$. Podatke lahko generiraš z \"generiraj_linearno\". Koraki:\n",
    "1. zapiši linearno gramatiko v formalizmu NLTK (ne pozabi da so tudi aritmetični operatorji terminalni simboli)\n",
    "2. naredi ProGED-ov objekt GeneratorGrammar, ki kot argument sprejme string iz točke 1\n",
    "3. gramatiko iz točke 2 podaj ProGED-ovemu EqDisco kot argument generator\n",
    "4. generiraj 15 naključnih izrazov z ED.generate_models in si jih oglej\n",
    "5. kliči še fit\\_models in get\\_results ter si oglej rezultate"
   ]
  },
  {
   "cell_type": "code",
   "execution_count": null,
   "metadata": {},
   "outputs": [],
   "source": []
  },
  {
   "attachments": {},
   "cell_type": "markdown",
   "metadata": {},
   "source": [
    "Zdaj linearni gramatiki dodaj še numerično konstanto. Kako se spremenijo generirani modeli in rezultati?"
   ]
  },
  {
   "cell_type": "code",
   "execution_count": null,
   "metadata": {},
   "outputs": [],
   "source": []
  },
  {
   "attachments": {},
   "cell_type": "markdown",
   "metadata": {},
   "source": [
    "1.3. Napiši gramatiko, ki generira polinome, in jo uporabi za odkrivanje energijskega zakona. Verjetno bo potrebno zgenerirati nekaj sto modelov. Če bo imel ProGED težave z generiranjem toliko unikatnih izrazov, mu lahko daš več poskusov za generiranje z nastavitvijo \"strategy_settings = {\"max_repeat\":1000}.\" \n",
    "\n",
    "Na prejšnjih vajah smo videli, da je šum velik trn v peti odkrivanja enačb. Kako vpliva šum na odkrivanje enačb z verjetnostnimi gramatikami?"
   ]
  },
  {
   "cell_type": "code",
   "execution_count": null,
   "metadata": {},
   "outputs": [],
   "source": [
    "podatki = generiraj_energijski_zakon(500, sum=0)\n",
    "\n"
   ]
  },
  {
   "attachments": {},
   "cell_type": "markdown",
   "metadata": {},
   "source": [
    "1.4. Loti se še naslednjih enačb:\n",
    "1. projekcija na y os pri kroženju $y = r\\sin(\\omega t)$, kjer je konstanta (*generiraj_krozenje*).  \n",
    "2. Lorenzov popravek $\\gamma = \\sqrt{1 - v^2/c^2}$, kjer je c hitrost svetlobe, približno $3\\cdot10^8 m/s$ (*generiraj_lorenz*)\n",
    "\n",
    "Za vsako od enačb napiši gramatiko, ki jo lahko odkrije. Premisli tudi, kakšne verjetnosti produkcij bi bile smiselne. Poskusi čim bolj omejiti prostor enačb, pri čemer naj ima gramatika še vedno vsaj eno rekurzivno pravilo. Gramatike lahko preizkusiš tudi na podatkih.\n"
   ]
  },
  {
   "cell_type": "code",
   "execution_count": null,
   "metadata": {},
   "outputs": [],
   "source": [
    "gramatika1 = #DOPOLNI\n",
    "\n",
    "gramatika1 = pg.GeneratorGrammar(gramatika1)\n",
    "podatki = generiraj_krozenje(100)\n",
    "ED = pg.EqDisco(data=podatki, \n",
    "                sample_size=50,\n",
    "                lhs_vars=[\"y\"],\n",
    "                rhs_vars=[\"r\", \"t\"],\n",
    "                generator = gramatika1)\n",
    "ED.generate_models()"
   ]
  },
  {
   "cell_type": "code",
   "execution_count": null,
   "metadata": {},
   "outputs": [],
   "source": [
    "gramatika2 = # DOPOLNI\n",
    "\n",
    "gramatika2 = pg.GeneratorGrammar(gramatika2)\n",
    "podatki = generiraj_krozenje(100)\n",
    "ED = pg.EqDisco(data=podatki, \n",
    "                sample_size=50,\n",
    "                lhs_vars=[\"gamma\"],\n",
    "                rhs_vars=[\"v\"],\n",
    "                generator = gramatika2)\n",
    "ED.generate_models()"
   ]
  },
  {
   "attachments": {},
   "cell_type": "markdown",
   "metadata": {},
   "source": [
    "## 2. Preštevanje dreves in verjetnosti\n",
    "\n",
    "Za linearno gramatiko iz 1.2 ter vsako od gramatik iz 1.4. nariši:\n",
    "1. graf števila dreves z dano višino\n",
    "2. graf verjetnosti vseh dreves do vključno dane višine\n",
    "\n",
    "Če želiš, lahko sam implementiraš rekurzivne enačbe s predavanj. Alternativno lahko uporabiš ProGED-ovi metodi \"grammar.count_trees\" in \"grammar.count_coverage\". Obema je treba podati začetni neterminalni simbol, ki mora biti objekt nltk.Nonterminal.\n",
    "\n"
   ]
  },
  {
   "cell_type": "code",
   "execution_count": null,
   "metadata": {},
   "outputs": [],
   "source": [
    "from nltk import Nonterminal\n",
    "import matplotlib.pyplot as plt\n",
    "\n"
   ]
  },
  {
   "attachments": {},
   "cell_type": "markdown",
   "metadata": {},
   "source": [
    "## 3. Merske enote\n",
    "\n",
    "Upoštevanje predznanja o merskih enotah spremenljivk nam pogosto lahko močno zmanjša prostor enačb. \n",
    "ProGED nam to omogoča preko formalizma atributnih gramatik, ki jih pretvorimo v navadne konteksno-neodvisne gramatike. Za pogoste tipe gramatik ProGED že implementira njihove dimenzijsko-pravilne različice.\n",
    "Enote predstavimo z vektorji v izbrani bazi osnovnih enot (recimo SI). \n",
    "\n",
    "3.1 Poglej si spodnji primer za Newtonov zakon ter dopolni manjkajoče!\n",
    "\n",
    "Plonkec iz osnovne šole:\n",
    "- Newtonov zakon $ F=m a$\n",
    "- F je sila, z enoto kg*m/s^2\n",
    "- m je masa, z enoto kg\n",
    "- a je pospešek, z enoto m/s^2"
   ]
  },
  {
   "cell_type": "code",
   "execution_count": null,
   "metadata": {},
   "outputs": [],
   "source": [
    "from ProGED.generators.dimensions import construct_dimensional_polynomial_grammar\n",
    "\n",
    "podatki = generiraj_newton(100)\n",
    "\n",
    "spremenljivke = [\"m\", \"a\"]\n",
    "simboli_enot = [\"m\", \"s\", \"kg\"]\n",
    "enote_na_desni = # DOPOLNI\n",
    "enota_na_levi = # DOPOLNI\n",
    "\n",
    "grammar = construct_dimensional_polynomial_grammar(variables = spremenljivke,\n",
    "                                        units = enote_na_desni,\n",
    "                                        target_variable_unit = enota_na_levi,\n",
    "                                        unit_symbols = simboli_enot)\n",
    "\n",
    "grammar"
   ]
  },
  {
   "attachments": {},
   "cell_type": "markdown",
   "metadata": {},
   "source": [
    "Vidimo, da ima gramatika veliko več simbolov in produkcij, kot tiste, ki smo jih pisali na roko. Zdaj uporabimo EqDisco in zgenerirajmo množico enačb."
   ]
  },
  {
   "cell_type": "code",
   "execution_count": null,
   "metadata": {},
   "outputs": [],
   "source": [
    "ED = pg.EqDisco(data=podatki, \n",
    "                lhs_vars=[\"F\"],\n",
    "                rhs_vars=[\"m\", \"a\"],\n",
    "                sample_size=10,\n",
    "                generator = grammar)\n",
    "\n",
    "ED.generate_models()\n"
   ]
  },
  {
   "attachments": {},
   "cell_type": "markdown",
   "metadata": {},
   "source": [
    "3.2. Poglejmo še pod krov, torej atributno gramatiko, ki izraža pravila za računanje z merskimi enotami. Oglej si spodnjo atributno gramatiko za dimenzijsko-pravilne polinome ter premisli, kako bi napisal dimenzijsko-pravilno atributno verzijo gramatik, ki si jih sestavil v nalogi 1.4. "
   ]
  },
  {
   "cell_type": "code",
   "execution_count": null,
   "metadata": {},
   "outputs": [],
   "source": [
    "from ProGED.generators.dimensions import dimensional_attribute_grammar_to_pcfg\n",
    "from nltk import PCFG\n",
    "\n",
    "prods = []\n",
    "prods += [[\"P -> P '+' M\", 0.4, [\"uP1 - uP2\", \"uP1 - uM1\"]]]\n",
    "prods += [[\"P -> M\", 0.6, [\"uP1 - uM1\"]]]\n",
    "prods += [[\"M -> M '*' V\", 0.4, [\"-uM1 + uM2 + uV1\"]]]\n",
    "prods += [[\"M -> V\", 0.4, [\"uM1 - uV1\"]]]\n",
    "prods += [[\"M -> 'C'\", 0.2, [\"uM1\"]]]\n",
    "\n",
    "pcfg_start, pcfg_prods = dimensional_attribute_grammar_to_pcfg(prods, \n",
    "                                                               spremenljivke, \n",
    "                                                               enote_na_desni, \n",
    "                                                               enota_na_levi, \n",
    "                                                               append_vars = True, \n",
    "                                                               unit_symbols = simboli_enot)\n",
    "grammar = pg.GeneratorGrammar(PCFG(pcfg_start, pcfg_prods))\n",
    "grammar"
   ]
  }
 ],
 "metadata": {
  "kernelspec": {
   "display_name": "NSUenv",
   "language": "python",
   "name": "python3"
  },
  "language_info": {
   "codemirror_mode": {
    "name": "ipython",
    "version": 3
   },
   "file_extension": ".py",
   "mimetype": "text/x-python",
   "name": "python",
   "nbconvert_exporter": "python",
   "pygments_lexer": "ipython3",
   "version": "3.11.3"
  },
  "orig_nbformat": 4
 },
 "nbformat": 4,
 "nbformat_minor": 2
}
