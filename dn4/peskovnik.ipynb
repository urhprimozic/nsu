{
 "cells": [
  {
   "cell_type": "code",
   "execution_count": 5,
   "metadata": {},
   "outputs": [
    {
     "data": {
      "text/plain": [
       "Grammar with 14 productions (start state = E)\n",
       "    E -> E '+' F [0.3]\n",
       "    E -> E '-' F [0.3]\n",
       "    E -> F [0.4]\n",
       "    F -> F '*' T [0.3]\n",
       "    F -> F '/' T [0.3]\n",
       "    F -> T [0.4]\n",
       "    T -> V [0.4]\n",
       "    T -> '(' E ')' [0.3]\n",
       "    T -> 'sin' '(' e ')' [0.3]\n",
       "    V -> 'x1' [0.2]\n",
       "    V -> 'x2' [0.2]\n",
       "    V -> 'x3' [0.2]\n",
       "    V -> 'x4' [0.2]\n",
       "    V -> 'x5' [0.2]"
      ]
     },
     "execution_count": 5,
     "metadata": {},
     "output_type": "execute_result"
    }
   ],
   "source": [
    "import ProGED as pg\n",
    "\n",
    "gramatika = \"E -> E '+' F [0.3] |E '-' F [0.3]| F [0.4] \\n\"\n",
    "gramatika += \"F -> F '*' T [0.3] | F '/' T [0.3] | T [0.4] \\n\"\n",
    "gramatika += \"T -> V [0.4] | '(' E ')' [0.3] | 'sin' '(' e ')' [0.3] \\n\"\n",
    "gramatika += \"V -> 'x1' [0.2] | 'x2' [0.2] | 'x3' [0.2] | 'x4' [0.2] | 'x5' [0.2]\"\n",
    "gramatika = pg.GeneratorGrammar(gramatika)\n",
    "gramatika"
   ]
  },
  {
   "attachments": {},
   "cell_type": "markdown",
   "metadata": {},
   "source": [
    "Priprava učnih podatkov"
   ]
  },
  {
   "cell_type": "code",
   "execution_count": 8,
   "metadata": {},
   "outputs": [
    {
     "data": {
      "text/html": [
       "<div>\n",
       "<style scoped>\n",
       "    .dataframe tbody tr th:only-of-type {\n",
       "        vertical-align: middle;\n",
       "    }\n",
       "\n",
       "    .dataframe tbody tr th {\n",
       "        vertical-align: top;\n",
       "    }\n",
       "\n",
       "    .dataframe thead th {\n",
       "        text-align: right;\n",
       "    }\n",
       "</style>\n",
       "<table border=\"1\" class=\"dataframe\">\n",
       "  <thead>\n",
       "    <tr style=\"text-align: right;\">\n",
       "      <th></th>\n",
       "      <th>x1</th>\n",
       "      <th>x2</th>\n",
       "      <th>x3</th>\n",
       "      <th>x4</th>\n",
       "      <th>x5</th>\n",
       "      <th>y</th>\n",
       "    </tr>\n",
       "  </thead>\n",
       "  <tbody>\n",
       "    <tr>\n",
       "      <th>0</th>\n",
       "      <td>-3.792383</td>\n",
       "      <td>-2.539303</td>\n",
       "      <td>0.499409</td>\n",
       "      <td>5.011900</td>\n",
       "      <td>-3.329851</td>\n",
       "      <td>-0.003735</td>\n",
       "    </tr>\n",
       "    <tr>\n",
       "      <th>1</th>\n",
       "      <td>8.483175</td>\n",
       "      <td>7.246371</td>\n",
       "      <td>-9.026194</td>\n",
       "      <td>-4.927150</td>\n",
       "      <td>-1.077290</td>\n",
       "      <td>-5.307033</td>\n",
       "    </tr>\n",
       "    <tr>\n",
       "      <th>2</th>\n",
       "      <td>-7.907442</td>\n",
       "      <td>-3.030480</td>\n",
       "      <td>4.801951</td>\n",
       "      <td>3.610290</td>\n",
       "      <td>2.447689</td>\n",
       "      <td>-1.170264</td>\n",
       "    </tr>\n",
       "    <tr>\n",
       "      <th>3</th>\n",
       "      <td>4.210568</td>\n",
       "      <td>-5.901526</td>\n",
       "      <td>-3.166038</td>\n",
       "      <td>3.524850</td>\n",
       "      <td>7.584695</td>\n",
       "      <td>32.665880</td>\n",
       "    </tr>\n",
       "    <tr>\n",
       "      <th>4</th>\n",
       "      <td>0.873561</td>\n",
       "      <td>-4.346007</td>\n",
       "      <td>-9.395295</td>\n",
       "      <td>4.206737</td>\n",
       "      <td>-9.842318</td>\n",
       "      <td>13.464559</td>\n",
       "    </tr>\n",
       "  </tbody>\n",
       "</table>\n",
       "</div>"
      ],
      "text/plain": [
       "         x1        x2        x3        x4        x5          y\n",
       "0 -3.792383 -2.539303  0.499409  5.011900 -3.329851  -0.003735\n",
       "1  8.483175  7.246371 -9.026194 -4.927150 -1.077290  -5.307033\n",
       "2 -7.907442 -3.030480  4.801951  3.610290  2.447689  -1.170264\n",
       "3  4.210568 -5.901526 -3.166038  3.524850  7.584695  32.665880\n",
       "4  0.873561 -4.346007 -9.395295  4.206737 -9.842318  13.464559"
      ]
     },
     "execution_count": 8,
     "metadata": {},
     "output_type": "execute_result"
    }
   ],
   "source": [
    "from DN4_2_podatky import generiraj_enacbo_1\n",
    "podatki = generiraj_enacbo_1()\n",
    "podatki.head()"
   ]
  },
  {
   "cell_type": "code",
   "execution_count": 12,
   "metadata": {},
   "outputs": [
    {
     "data": {
      "text/plain": [
       "<ProGED.equation_discoverer.EqDisco at 0x7f69bc1262c0>"
      ]
     },
     "execution_count": 12,
     "metadata": {},
     "output_type": "execute_result"
    }
   ],
   "source": [
    "ED = pg.EqDisco(data=podatki, \n",
    "                lhs_vars=[\"y\"],\n",
    "                rhs_vars=[\"x1\", \"x2\", \"x3\", \"x4\", \"x5\"],\n",
    "                sample_size=15,\n",
    "                generator=gramatika)"
   ]
  },
  {
   "cell_type": "code",
   "execution_count": 10,
   "metadata": {},
   "outputs": [
    {
     "ename": "AttributeError",
     "evalue": "'tuple' object has no attribute 'generate_models'",
     "output_type": "error",
     "traceback": [
      "\u001b[0;31m---------------------------------------------------------------------------\u001b[0m",
      "\u001b[0;31mAttributeError\u001b[0m                            Traceback (most recent call last)",
      "\u001b[0;32m/tmp/ipykernel_339082/3107379437.py\u001b[0m in \u001b[0;36m<module>\u001b[0;34m\u001b[0m\n\u001b[0;32m----> 1\u001b[0;31m \u001b[0mED\u001b[0m\u001b[0;34m.\u001b[0m\u001b[0mgenerate_models\u001b[0m\u001b[0;34m(\u001b[0m\u001b[0;34m)\u001b[0m\u001b[0;34m\u001b[0m\u001b[0;34m\u001b[0m\u001b[0m\n\u001b[0m",
      "\u001b[0;31mAttributeError\u001b[0m: 'tuple' object has no attribute 'generate_models'"
     ]
    }
   ],
   "source": [
    "ED.generate_models()"
   ]
  },
  {
   "cell_type": "code",
   "execution_count": null,
   "metadata": {},
   "outputs": [],
   "source": []
  }
 ],
 "metadata": {
  "kernelspec": {
   "display_name": "Python 3",
   "language": "python",
   "name": "python3"
  },
  "language_info": {
   "codemirror_mode": {
    "name": "ipython",
    "version": 3
   },
   "file_extension": ".py",
   "mimetype": "text/x-python",
   "name": "python",
   "nbconvert_exporter": "python",
   "pygments_lexer": "ipython3",
   "version": "3.10.6"
  },
  "orig_nbformat": 4
 },
 "nbformat": 4,
 "nbformat_minor": 2
}
