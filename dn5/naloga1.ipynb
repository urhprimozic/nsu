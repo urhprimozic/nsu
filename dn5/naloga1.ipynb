{
 "cells": [
  {
   "attachments": {},
   "cell_type": "markdown",
   "metadata": {},
   "source": [
    "### Napovedovanje okužb\n",
    "Naloge se lotim z nevronskimi mrežami. Vhodna plast je velikosti N, izhodna velikosti M. \n",
    "\n",
    "Obliko mreže bomo izbrali s pomočjo algoritmov za hiperoptimizacijo. "
   ]
  },
  {
   "cell_type": "code",
   "execution_count": 166,
   "metadata": {},
   "outputs": [],
   "source": [
    "import pandas as pd\n",
    "import torch\n",
    "from torch.nn.functional import normalize\n",
    "import numpy as np"
   ]
  },
  {
   "cell_type": "code",
   "execution_count": 167,
   "metadata": {},
   "outputs": [],
   "source": [
    "from prepeare_data import transform_data\n",
    "data = pd.read_csv('okuzeni.csv')\n",
    "n_obcin = data.shape[1]\n",
    "data.head()\n",
    "\n",
    "MESTNE_OBCINE = [\n",
    "'ljubljana',\n",
    "'maribor',\n",
    "'kranj',\n",
    "'koper',\n",
    "'celje',\n",
    "'novo_mesto',\n",
    "'velenje',\n",
    "'nova_gorica',\n",
    "'krško',\n",
    "'ptuj',\n",
    "'murska_sobota',\n",
    "'slovenj_gradec'\n",
    "]\n",
    "N_MESTNIH_OBCIN = len(MESTNE_OBCINE)\n",
    "\n"
   ]
  },
  {
   "attachments": {},
   "cell_type": "markdown",
   "metadata": {},
   "source": [
    "Imamo podatke za vseh 192 občin. Mnogo podatkov manjka. Prav tako mislim, da ne potrebujemo upoštevati vseh občin. \n",
    "\n",
    "Odločil sem se, da bom občine z več kot 50imi manjkajočimi vrednosti odstranil iz analize, pri ostalih pa bom manjkajoče vrednosti interpoliral glede na sosednje dni"
   ]
  },
  {
   "cell_type": "code",
   "execution_count": 168,
   "metadata": {},
   "outputs": [
    {
     "name": "stdout",
     "output_type": "stream",
     "text": [
      "Število odstranjenih občin: 43\n",
      "Število manjkajočih vrednosti:  0\n"
     ]
    }
   ],
   "source": [
    "n_nan = data.isna().sum()\n",
    "#n_nan.plot()\n",
    "print( \"Število odstranjenih občin:\" , len(n_nan[n_nan > 50]))\n",
    "# odstranimo \"slabe\" obcine\n",
    "obcine = set(data.columns) - set(n_nan[n_nan > 50].index)\n",
    "obcine = list(obcine)\n",
    "n_obcin = len(obcine)\n",
    "\n",
    "#nismo odstranili slabih:\n",
    "#>>> for o in MESTNE_OBCINE:\n",
    "#        print(o in obcine)\n",
    "#True\n",
    "\n",
    "# posodobimo podatke\n",
    "\n",
    "data = data[obcine]\n",
    "# interpolacija vzdolž stolpcev:\n",
    "data = data.interpolate(axis=1)\n",
    "# linearna interpolacija pusti Nane na začetku -- te zafilamo \n",
    "data = data.fillna(method='bfill')\n",
    "\n",
    "print(\"Število manjkajočih vrednosti: \", data.isna().sum().sum())"
   ]
  },
  {
   "cell_type": "code",
   "execution_count": 169,
   "metadata": {},
   "outputs": [
    {
     "data": {
      "text/plain": [
       "torch.Size([779, 14, 150])"
      ]
     },
     "execution_count": 169,
     "metadata": {},
     "output_type": "execute_result"
    }
   ],
   "source": [
    "%reload_ext autoreload\n",
    "%autoreload 2\n",
    "from prepeare_data import transform_data\n",
    "# settings:\n",
    "N=14\n",
    "M = 7\n",
    "\n",
    "X, y = transform_data(data, N, M, MESTNE_OBCINE)\n",
    "X.shape"
   ]
  },
  {
   "attachments": {},
   "cell_type": "markdown",
   "metadata": {},
   "source": [
    "## Optimizacija parametrov"
   ]
  },
  {
   "cell_type": "code",
   "execution_count": 170,
   "metadata": {},
   "outputs": [],
   "source": [
    "from models import fully_connected, convolution, double_convolution, nn_test\n",
    "linear = fully_connected(M=7,layer_sizes=[N*n_obcin, 500], n_obcin=n_obcin)\n",
    "conv = convolution(M=7, c=5, l=2, p=(2,3), n_obcin=n_obcin)\n",
    "double_conv = double_convolution(7, 5, 2, 2,2,(2,3), (1,1), n_obcin=n_obcin)"
   ]
  },
  {
   "cell_type": "code",
   "execution_count": null,
   "metadata": {},
   "outputs": [],
   "source": []
  }
 ],
 "metadata": {
  "kernelspec": {
   "display_name": "Python 3",
   "language": "python",
   "name": "python3"
  },
  "language_info": {
   "codemirror_mode": {
    "name": "ipython",
    "version": 3
   },
   "file_extension": ".py",
   "mimetype": "text/x-python",
   "name": "python",
   "nbconvert_exporter": "python",
   "pygments_lexer": "ipython3",
   "version": "3.10.6"
  },
  "orig_nbformat": 4
 },
 "nbformat": 4,
 "nbformat_minor": 2
}
