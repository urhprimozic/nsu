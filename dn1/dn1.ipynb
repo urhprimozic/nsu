{
 "cells": [
  {
   "attachments": {},
   "cell_type": "markdown",
   "metadata": {},
   "source": [
    "# 1 Izbira metode in optimizacija hiperparametrov"
   ]
  },
  {
   "cell_type": "code",
   "execution_count": 6,
   "metadata": {},
   "outputs": [],
   "source": [
    "import pandas as pd\n",
    "import numpy as np\n",
    "\n",
    "PODATKI = 'podatki.csv'\n",
    "RANDOM_SEED = 420"
   ]
  },
  {
   "cell_type": "code",
   "execution_count": 7,
   "metadata": {},
   "outputs": [
    {
     "name": "stdout",
     "output_type": "stream",
     "text": [
      "Število primerov:  1203\n"
     ]
    },
    {
     "data": {
      "text/plain": [
       "x1     float64\n",
       "x2     float64\n",
       "x3     float64\n",
       "x4     float64\n",
       "x5     float64\n",
       "x6     float64\n",
       "x7     float64\n",
       "x8     float64\n",
       "x9     float64\n",
       "x10    float64\n",
       "x11    float64\n",
       "x12    float64\n",
       "x13    float64\n",
       "x14    float64\n",
       "x15    float64\n",
       "x16    float64\n",
       "x17    float64\n",
       "x18    float64\n",
       "x19    float64\n",
       "x20    float64\n",
       "x21    float64\n",
       "x22    float64\n",
       "x23    float64\n",
       "x24    float64\n",
       "x25    float64\n",
       "x26    float64\n",
       "x27    float64\n",
       "x28    float64\n",
       "x29    float64\n",
       "x30    float64\n",
       "y       object\n",
       "dtype: object"
      ]
     },
     "execution_count": 7,
     "metadata": {},
     "output_type": "execute_result"
    }
   ],
   "source": [
    "data = pd.read_csv(PODATKI)\n",
    "print('Število primerov: ', len(data))\n",
    "features = data.columns[:-1]\n",
    "data.dtypes"
   ]
  },
  {
   "attachments": {},
   "cell_type": "markdown",
   "metadata": {},
   "source": [
    "Originalni podatki, iz katerih je pridobljen dataset `data`, vsebujejo največ 130 značilk in 2203 primerov."
   ]
  },
  {
   "attachments": {},
   "cell_type": "markdown",
   "metadata": {},
   "source": [
    "## 1.1 Ročno\n",
    "\n",
    "Ročno bomo uporabili random forest. Uporabljam impementacijo `LightGBM` za drevesa in `ray` za hyperoptimizacijo parametrov."
   ]
  },
  {
   "cell_type": "code",
   "execution_count": 8,
   "metadata": {},
   "outputs": [],
   "source": [
    "from sklearn.model_selection import GridSearchCV, train_test_split, cross_val_score\n",
    "from lightgbm import LGBMClassifier\n",
    "from sklearn.svm import SVC\n",
    "from sklearn.neighbors import KNeighborsClassifier\n",
    "\n",
    "X_train, X_test, y_train, y_test =  train_test_split(data[features], data['y'], test_size=1/4, random_state=RANDOM_SEED)"
   ]
  },
  {
   "cell_type": "code",
   "execution_count": 9,
   "metadata": {},
   "outputs": [],
   "source": [
    "from ray import tune \n",
    "\n",
    "def tune_classifier(config):\n",
    "    model = LGBMClassifier(**config)\n",
    "    cv_results = cross_val_score(model, X_train, y_train, scoring='roc_auc', cv=5)\n",
    "\n",
    "\n",
    "    mean_roc_auc = np.mean(cv_results)\n",
    "    \n",
    "    tune.report(\n",
    "        mean_roc_auc=mean_roc_auc,\n",
    "        done=True,\n",
    "    )"
   ]
  },
  {
   "cell_type": "code",
   "execution_count": 14,
   "metadata": {},
   "outputs": [
    {
     "data": {
      "text/html": [
       "<div class=\"tuneStatus\">\n",
       "  <div style=\"display: flex;flex-direction: row\">\n",
       "    <div style=\"display: flex;flex-direction: column;\">\n",
       "      <h3>Tune Status</h3>\n",
       "      <table>\n",
       "<tbody>\n",
       "<tr><td>Current time:</td><td>2023-03-26 17:51:16</td></tr>\n",
       "<tr><td>Running for: </td><td>00:00:01.59        </td></tr>\n",
       "<tr><td>Memory:      </td><td>8.4/31.1 GiB       </td></tr>\n",
       "</tbody>\n",
       "</table>\n",
       "    </div>\n",
       "    <div class=\"vDivider\"></div>\n",
       "    <div class=\"systemInfo\">\n",
       "      <h3>System Info</h3>\n",
       "      Using FIFO scheduling algorithm.<br>Resources requested: 5.0/16 CPUs, 0/0 GPUs, 0.0/15.46 GiB heap, 0.0/7.73 GiB objects\n",
       "    </div>\n",
       "    \n",
       "  </div>\n",
       "  <div class=\"hDivider\"></div>\n",
       "  <div class=\"trialStatus\">\n",
       "    <h3>Trial Status</h3>\n",
       "    <table>\n",
       "<thead>\n",
       "<tr><th>Trial name                 </th><th>status  </th><th>loc                </th><th style=\"text-align: right;\">  learning_rate</th><th style=\"text-align: right;\">  min_child_samples</th><th style=\"text-align: right;\">  n_estimators</th><th style=\"text-align: right;\">  num_leaves</th></tr>\n",
       "</thead>\n",
       "<tbody>\n",
       "<tr><td>tune_classifier_0a34f_00000</td><td>RUNNING </td><td>192.168.0.105:45097</td><td style=\"text-align: right;\">      0.0240307</td><td style=\"text-align: right;\">                 25</td><td style=\"text-align: right;\">            66</td><td style=\"text-align: right;\">          31</td></tr>\n",
       "<tr><td>tune_classifier_0a34f_00001</td><td>PENDING </td><td>                   </td><td style=\"text-align: right;\">      0.0252323</td><td style=\"text-align: right;\">                 50</td><td style=\"text-align: right;\">            72</td><td style=\"text-align: right;\">          47</td></tr>\n",
       "<tr><td>tune_classifier_0a34f_00002</td><td>PENDING </td><td>                   </td><td style=\"text-align: right;\">      0.0116181</td><td style=\"text-align: right;\">                  5</td><td style=\"text-align: right;\">            55</td><td style=\"text-align: right;\">          68</td></tr>\n",
       "<tr><td>tune_classifier_0a34f_00003</td><td>PENDING </td><td>                   </td><td style=\"text-align: right;\">      0.0380019</td><td style=\"text-align: right;\">                200</td><td style=\"text-align: right;\">            87</td><td style=\"text-align: right;\">          63</td></tr>\n",
       "<tr><td>tune_classifier_0a34f_00004</td><td>PENDING </td><td>                   </td><td style=\"text-align: right;\">      0.0311417</td><td style=\"text-align: right;\">                 10</td><td style=\"text-align: right;\">            50</td><td style=\"text-align: right;\">          73</td></tr>\n",
       "<tr><td>tune_classifier_0a34f_00005</td><td>PENDING </td><td>                   </td><td style=\"text-align: right;\">      0.010125 </td><td style=\"text-align: right;\">                 10</td><td style=\"text-align: right;\">            68</td><td style=\"text-align: right;\">          78</td></tr>\n",
       "<tr><td>tune_classifier_0a34f_00006</td><td>PENDING </td><td>                   </td><td style=\"text-align: right;\">      0.0438819</td><td style=\"text-align: right;\">                200</td><td style=\"text-align: right;\">            82</td><td style=\"text-align: right;\">          34</td></tr>\n",
       "<tr><td>tune_classifier_0a34f_00007</td><td>PENDING </td><td>                   </td><td style=\"text-align: right;\">      0.0120919</td><td style=\"text-align: right;\">                  5</td><td style=\"text-align: right;\">            77</td><td style=\"text-align: right;\">          27</td></tr>\n",
       "<tr><td>tune_classifier_0a34f_00008</td><td>PENDING </td><td>                   </td><td style=\"text-align: right;\">      0.0251302</td><td style=\"text-align: right;\">                200</td><td style=\"text-align: right;\">            86</td><td style=\"text-align: right;\">          13</td></tr>\n",
       "<tr><td>tune_classifier_0a34f_00009</td><td>PENDING </td><td>                   </td><td style=\"text-align: right;\">      0.0368955</td><td style=\"text-align: right;\">                200</td><td style=\"text-align: right;\">            93</td><td style=\"text-align: right;\">          73</td></tr>\n",
       "<tr><td>tune_classifier_0a34f_00010</td><td>PENDING </td><td>                   </td><td style=\"text-align: right;\">      0.0179491</td><td style=\"text-align: right;\">                 50</td><td style=\"text-align: right;\">            92</td><td style=\"text-align: right;\">          12</td></tr>\n",
       "<tr><td>tune_classifier_0a34f_00011</td><td>PENDING </td><td>                   </td><td style=\"text-align: right;\">      0.0433081</td><td style=\"text-align: right;\">                 15</td><td style=\"text-align: right;\">            81</td><td style=\"text-align: right;\">          49</td></tr>\n",
       "<tr><td>tune_classifier_0a34f_00012</td><td>PENDING </td><td>                   </td><td style=\"text-align: right;\">      0.0129923</td><td style=\"text-align: right;\">                 15</td><td style=\"text-align: right;\">            85</td><td style=\"text-align: right;\">          29</td></tr>\n",
       "<tr><td>tune_classifier_0a34f_00013</td><td>PENDING </td><td>                   </td><td style=\"text-align: right;\">      0.0468148</td><td style=\"text-align: right;\">                 10</td><td style=\"text-align: right;\">            61</td><td style=\"text-align: right;\">          96</td></tr>\n",
       "<tr><td>tune_classifier_0a34f_00014</td><td>PENDING </td><td>                   </td><td style=\"text-align: right;\">      0.0182683</td><td style=\"text-align: right;\">                 15</td><td style=\"text-align: right;\">            98</td><td style=\"text-align: right;\">          71</td></tr>\n",
       "<tr><td>tune_classifier_0a34f_00015</td><td>PENDING </td><td>                   </td><td style=\"text-align: right;\">      0.0232287</td><td style=\"text-align: right;\">                 25</td><td style=\"text-align: right;\">            73</td><td style=\"text-align: right;\">          65</td></tr>\n",
       "<tr><td>tune_classifier_0a34f_00016</td><td>PENDING </td><td>                   </td><td style=\"text-align: right;\">      0.0191814</td><td style=\"text-align: right;\">                 50</td><td style=\"text-align: right;\">            81</td><td style=\"text-align: right;\">          37</td></tr>\n",
       "</tbody>\n",
       "</table>\n",
       "  </div>\n",
       "</div>\n",
       "<style>\n",
       ".tuneStatus {\n",
       "  color: var(--jp-ui-font-color1);\n",
       "}\n",
       ".tuneStatus .systemInfo {\n",
       "  display: flex;\n",
       "  flex-direction: column;\n",
       "}\n",
       ".tuneStatus td {\n",
       "  white-space: nowrap;\n",
       "}\n",
       ".tuneStatus .trialStatus {\n",
       "  display: flex;\n",
       "  flex-direction: column;\n",
       "}\n",
       ".tuneStatus h3 {\n",
       "  font-weight: bold;\n",
       "}\n",
       ".tuneStatus .hDivider {\n",
       "  border-bottom-width: var(--jp-border-width);\n",
       "  border-bottom-color: var(--jp-border-color0);\n",
       "  border-bottom-style: solid;\n",
       "}\n",
       ".tuneStatus .vDivider {\n",
       "  border-left-width: var(--jp-border-width);\n",
       "  border-left-color: var(--jp-border-color0);\n",
       "  border-left-style: solid;\n",
       "  margin: 0.5em 1em 0.5em 1em;\n",
       "}\n",
       "</style>\n"
      ],
      "text/plain": [
       "<IPython.core.display.HTML object>"
      ]
     },
     "metadata": {},
     "output_type": "display_data"
    },
    {
     "name": "stderr",
     "output_type": "stream",
     "text": [
      "2023-03-26 17:51:40,293\tINFO tune.py:762 -- Total run time: 25.07 seconds (24.75 seconds for the tuning loop).\n"
     ]
    },
    {
     "data": {
      "text/html": [
       "<div>\n",
       "<style scoped>\n",
       "    .dataframe tbody tr th:only-of-type {\n",
       "        vertical-align: middle;\n",
       "    }\n",
       "\n",
       "    .dataframe tbody tr th {\n",
       "        vertical-align: top;\n",
       "    }\n",
       "\n",
       "    .dataframe thead th {\n",
       "        text-align: right;\n",
       "    }\n",
       "</style>\n",
       "<table border=\"1\" class=\"dataframe\">\n",
       "  <thead>\n",
       "    <tr style=\"text-align: right;\">\n",
       "      <th></th>\n",
       "      <th>mean_roc_auc</th>\n",
       "      <th>done</th>\n",
       "      <th>time_this_iter_s</th>\n",
       "      <th>timesteps_total</th>\n",
       "      <th>episodes_total</th>\n",
       "      <th>training_iteration</th>\n",
       "      <th>trial_id</th>\n",
       "      <th>experiment_id</th>\n",
       "      <th>date</th>\n",
       "      <th>timestamp</th>\n",
       "      <th>...</th>\n",
       "      <th>warmup_time</th>\n",
       "      <th>config/boosting_type</th>\n",
       "      <th>config/learning_rate</th>\n",
       "      <th>config/metric</th>\n",
       "      <th>config/min_child_samples</th>\n",
       "      <th>config/n_estimators</th>\n",
       "      <th>config/num_leaves</th>\n",
       "      <th>config/objective</th>\n",
       "      <th>config/verbose</th>\n",
       "      <th>logdir</th>\n",
       "    </tr>\n",
       "  </thead>\n",
       "  <tbody>\n",
       "    <tr>\n",
       "      <th>0</th>\n",
       "      <td>0.929916</td>\n",
       "      <td>True</td>\n",
       "      <td>0.236337</td>\n",
       "      <td>NaN</td>\n",
       "      <td>NaN</td>\n",
       "      <td>1</td>\n",
       "      <td>0a34f_00000</td>\n",
       "      <td>f57a2e8bbd1e49478637d280a8c3ea0a</td>\n",
       "      <td>2023-03-26_17-51-17</td>\n",
       "      <td>1679845877</td>\n",
       "      <td>...</td>\n",
       "      <td>0.002488</td>\n",
       "      <td>gbdt</td>\n",
       "      <td>0.024031</td>\n",
       "      <td>binary_error</td>\n",
       "      <td>25</td>\n",
       "      <td>66</td>\n",
       "      <td>31</td>\n",
       "      <td>binary</td>\n",
       "      <td>-1</td>\n",
       "      <td>/home/uprimozic/ray_results/tune_classifier_20...</td>\n",
       "    </tr>\n",
       "    <tr>\n",
       "      <th>1</th>\n",
       "      <td>0.922630</td>\n",
       "      <td>True</td>\n",
       "      <td>0.108758</td>\n",
       "      <td>NaN</td>\n",
       "      <td>NaN</td>\n",
       "      <td>1</td>\n",
       "      <td>0a34f_00001</td>\n",
       "      <td>e0bdaf34695b46c0a0c68b53d96757fc</td>\n",
       "      <td>2023-03-26_17-51-18</td>\n",
       "      <td>1679845878</td>\n",
       "      <td>...</td>\n",
       "      <td>0.002672</td>\n",
       "      <td>gbdt</td>\n",
       "      <td>0.025232</td>\n",
       "      <td>binary_error</td>\n",
       "      <td>50</td>\n",
       "      <td>72</td>\n",
       "      <td>47</td>\n",
       "      <td>binary</td>\n",
       "      <td>-1</td>\n",
       "      <td>/home/uprimozic/ray_results/tune_classifier_20...</td>\n",
       "    </tr>\n",
       "    <tr>\n",
       "      <th>2</th>\n",
       "      <td>0.886253</td>\n",
       "      <td>True</td>\n",
       "      <td>0.238318</td>\n",
       "      <td>NaN</td>\n",
       "      <td>NaN</td>\n",
       "      <td>1</td>\n",
       "      <td>0a34f_00002</td>\n",
       "      <td>7e5eb1ac13674c0994c6172da58dd284</td>\n",
       "      <td>2023-03-26_17-51-18</td>\n",
       "      <td>1679845878</td>\n",
       "      <td>...</td>\n",
       "      <td>0.002466</td>\n",
       "      <td>gbdt</td>\n",
       "      <td>0.011618</td>\n",
       "      <td>binary_error</td>\n",
       "      <td>5</td>\n",
       "      <td>55</td>\n",
       "      <td>68</td>\n",
       "      <td>binary</td>\n",
       "      <td>-1</td>\n",
       "      <td>/home/uprimozic/ray_results/tune_classifier_20...</td>\n",
       "    </tr>\n",
       "    <tr>\n",
       "      <th>3</th>\n",
       "      <td>0.902003</td>\n",
       "      <td>True</td>\n",
       "      <td>0.064442</td>\n",
       "      <td>NaN</td>\n",
       "      <td>NaN</td>\n",
       "      <td>1</td>\n",
       "      <td>0a34f_00003</td>\n",
       "      <td>f57a2e8bbd1e49478637d280a8c3ea0a</td>\n",
       "      <td>2023-03-26_17-51-17</td>\n",
       "      <td>1679845877</td>\n",
       "      <td>...</td>\n",
       "      <td>0.002488</td>\n",
       "      <td>gbdt</td>\n",
       "      <td>0.038002</td>\n",
       "      <td>binary_error</td>\n",
       "      <td>200</td>\n",
       "      <td>87</td>\n",
       "      <td>63</td>\n",
       "      <td>binary</td>\n",
       "      <td>-1</td>\n",
       "      <td>/home/uprimozic/ray_results/tune_classifier_20...</td>\n",
       "    </tr>\n",
       "    <tr>\n",
       "      <th>4</th>\n",
       "      <td>0.933040</td>\n",
       "      <td>True</td>\n",
       "      <td>0.231814</td>\n",
       "      <td>NaN</td>\n",
       "      <td>NaN</td>\n",
       "      <td>1</td>\n",
       "      <td>0a34f_00004</td>\n",
       "      <td>f57a2e8bbd1e49478637d280a8c3ea0a</td>\n",
       "      <td>2023-03-26_17-51-17</td>\n",
       "      <td>1679845877</td>\n",
       "      <td>...</td>\n",
       "      <td>0.002488</td>\n",
       "      <td>gbdt</td>\n",
       "      <td>0.031142</td>\n",
       "      <td>binary_error</td>\n",
       "      <td>10</td>\n",
       "      <td>50</td>\n",
       "      <td>73</td>\n",
       "      <td>binary</td>\n",
       "      <td>-1</td>\n",
       "      <td>/home/uprimozic/ray_results/tune_classifier_20...</td>\n",
       "    </tr>\n",
       "  </tbody>\n",
       "</table>\n",
       "<p>5 rows × 27 columns</p>\n",
       "</div>"
      ],
      "text/plain": [
       "   mean_roc_auc  done  time_this_iter_s  timesteps_total  episodes_total  \\\n",
       "0      0.929916  True          0.236337              NaN             NaN   \n",
       "1      0.922630  True          0.108758              NaN             NaN   \n",
       "2      0.886253  True          0.238318              NaN             NaN   \n",
       "3      0.902003  True          0.064442              NaN             NaN   \n",
       "4      0.933040  True          0.231814              NaN             NaN   \n",
       "\n",
       "   training_iteration     trial_id                     experiment_id  \\\n",
       "0                   1  0a34f_00000  f57a2e8bbd1e49478637d280a8c3ea0a   \n",
       "1                   1  0a34f_00001  e0bdaf34695b46c0a0c68b53d96757fc   \n",
       "2                   1  0a34f_00002  7e5eb1ac13674c0994c6172da58dd284   \n",
       "3                   1  0a34f_00003  f57a2e8bbd1e49478637d280a8c3ea0a   \n",
       "4                   1  0a34f_00004  f57a2e8bbd1e49478637d280a8c3ea0a   \n",
       "\n",
       "                  date   timestamp  ...  warmup_time  config/boosting_type  \\\n",
       "0  2023-03-26_17-51-17  1679845877  ...     0.002488                  gbdt   \n",
       "1  2023-03-26_17-51-18  1679845878  ...     0.002672                  gbdt   \n",
       "2  2023-03-26_17-51-18  1679845878  ...     0.002466                  gbdt   \n",
       "3  2023-03-26_17-51-17  1679845877  ...     0.002488                  gbdt   \n",
       "4  2023-03-26_17-51-17  1679845877  ...     0.002488                  gbdt   \n",
       "\n",
       "  config/learning_rate config/metric  config/min_child_samples  \\\n",
       "0             0.024031  binary_error                        25   \n",
       "1             0.025232  binary_error                        50   \n",
       "2             0.011618  binary_error                         5   \n",
       "3             0.038002  binary_error                       200   \n",
       "4             0.031142  binary_error                        10   \n",
       "\n",
       "   config/n_estimators  config/num_leaves  config/objective config/verbose  \\\n",
       "0                   66                 31            binary             -1   \n",
       "1                   72                 47            binary             -1   \n",
       "2                   55                 68            binary             -1   \n",
       "3                   87                 63            binary             -1   \n",
       "4                   50                 73            binary             -1   \n",
       "\n",
       "                                              logdir  \n",
       "0  /home/uprimozic/ray_results/tune_classifier_20...  \n",
       "1  /home/uprimozic/ray_results/tune_classifier_20...  \n",
       "2  /home/uprimozic/ray_results/tune_classifier_20...  \n",
       "3  /home/uprimozic/ray_results/tune_classifier_20...  \n",
       "4  /home/uprimozic/ray_results/tune_classifier_20...  \n",
       "\n",
       "[5 rows x 27 columns]"
      ]
     },
     "execution_count": 14,
     "metadata": {},
     "output_type": "execute_result"
    }
   ],
   "source": [
    "config = {\n",
    "    \"objective\": \"binary\",\n",
    "    \"metric\": \"binary_error\",\n",
    "    \"verbose\": -1,\n",
    "    \"boosting_type\": \"gbdt\",\n",
    "    \"num_leaves\": tune.randint(5, 100),\n",
    "    \"n_estimators\": tune.randint(50, 100),\n",
    "    \"min_child_samples\": tune.choice([5, 10, 15, 25, 50,  100, 200]),\n",
    "    \"learning_rate\": tune.loguniform(1e-2, 0.05),\n",
    "}\n",
    "analysis = tune.run(tune_classifier, resources_per_trial={\"cpu\": 5}, config=config, num_samples=200, verbose=1, raise_on_failed_trial=False)\n",
    "results = analysis.dataframe()\n",
    "results.head()"
   ]
  },
  {
   "cell_type": "code",
   "execution_count": 17,
   "metadata": {},
   "outputs": [
    {
     "data": {
      "text/plain": [
       "{'boosting_type': 'gbdt',\n",
       " 'learning_rate': 0.02403066512783489,\n",
       " 'metric': 'binary_error',\n",
       " 'min_child_samples': 25,\n",
       " 'n_estimators': 66,\n",
       " 'num_leaves': 31,\n",
       " 'objective': 'binary',\n",
       " 'verbose': -1}"
      ]
     },
     "execution_count": 17,
     "metadata": {},
     "output_type": "execute_result"
    }
   ],
   "source": [
    "params = results.iloc[0]\n",
    "params_dict = results.loc[params.name][[col for col in results.columns if col.startswith('config')]].to_dict()\n",
    "params_dict = {k.replace('config/', ''): v for k, v in params_dict.items()}\n",
    "# za shranjevanjevanje modela:\n",
    "# import json\n",
    "# json.dump(params_dict, open(\"best_params_trees.json\", \"w\"), indent=2)\n",
    "\n",
    "# loading:\n",
    "# params_dict = json.load(open('best_params.json', 'r'))\n",
    "params_dict"
   ]
  },
  {
   "cell_type": "code",
   "execution_count": 27,
   "metadata": {},
   "outputs": [
    {
     "data": {
      "text/plain": [
       "0.8903654485049833"
      ]
     },
     "execution_count": 27,
     "metadata": {},
     "output_type": "execute_result"
    },
    {
     "data": {
      "image/png": "[encoded data removed]",
      "text/plain": [
       "<Figure size 432x288 with 1 Axes>"
      ]
     },
     "metadata": {
      "needs_background": "light"
     },
     "output_type": "display_data"
    }
   ],
   "source": [
    "from sklearn.metrics import RocCurveDisplay\n",
    "import matplotlib.pyplot as plt\n",
    "\n",
    "model = LGBMClassifier(**params_dict)\n",
    "model.fit(X_train, y_train)\n",
    "\n",
    "RocCurveDisplay.from_estimator(model, X_test, y_test)"
   ]
  },
  {
   "attachments": {},
   "cell_type": "markdown",
   "metadata": {},
   "source": [
    "## 1.2 Avtomatizirano\n",
    "Preizkusili bomo drevesa (LightGBM), najbližje sosede in svm. "
   ]
  },
  {
   "cell_type": "code",
   "execution_count": null,
   "metadata": {},
   "outputs": [],
   "source": []
  }
 ],
 "metadata": {
  "kernelspec": {
   "display_name": "Python 3",
   "language": "python",
   "name": "python3"
  },
  "language_info": {
   "codemirror_mode": {
    "name": "ipython",
    "version": 3
   },
   "file_extension": ".py",
   "mimetype": "text/x-python",
   "name": "python",
   "nbconvert_exporter": "python",
   "pygments_lexer": "ipython3",
   "version": "3.10.6"
  },
  "orig_nbformat": 4
 },
 "nbformat": 4,
 "nbformat_minor": 2
}
